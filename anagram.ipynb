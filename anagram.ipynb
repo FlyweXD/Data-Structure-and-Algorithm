{
  "nbformat": 4,
  "nbformat_minor": 0,
  "metadata": {
    "colab": {
      "name": "anagram.ipynb",
      "provenance": [],
      "collapsed_sections": [
        "WpAJ8SydhKvL",
        "c7BzlY7Oht_C"
      ],
      "authorship_tag": "ABX9TyO921+DvlG7BOImosOp24VY",
      "include_colab_link": true
    },
    "kernelspec": {
      "name": "python3",
      "display_name": "Python 3"
    },
    "language_info": {
      "name": "python"
    }
  },
  "cells": [
    {
      "cell_type": "markdown",
      "metadata": {
        "id": "view-in-github",
        "colab_type": "text"
      },
      "source": [
        "<a href=\"https://colab.research.google.com/github/FlyweXD/Data-Structure-and-Algorithm/blob/main/anagram.ipynb\" target=\"_parent\"><img src=\"https://colab.research.google.com/assets/colab-badge.svg\" alt=\"Open In Colab\"/></a>"
      ]
    },
    {
      "cell_type": "markdown",
      "source": [
        "#变位词"
      ],
      "metadata": {
        "id": "8vwzvE0in_M2"
      }
    },
    {
      "cell_type": "code",
      "source": [
        ""
      ],
      "metadata": {
        "id": "xzAHjpk0oGDQ"
      },
      "execution_count": null,
      "outputs": []
    },
    {
      "cell_type": "markdown",
      "source": [
        "##方法1:\n",
        "时间复杂度$O（n^2）$"
      ],
      "metadata": {
        "id": "WpAJ8SydhKvL"
      }
    },
    {
      "cell_type": "code",
      "execution_count": 5,
      "metadata": {
        "id": "s74oFliePBgr"
      },
      "outputs": [],
      "source": [
        "def anagramSolution1(word_one, word_two):\n",
        "  # check if 2 word same length\n",
        "  if len(word_one) != len(word_two):\n",
        "    return False\n",
        "\n",
        "  word_1 = list(word_one)\n",
        "  word_2 = list(word_two)\n",
        "  still_ok = True\n",
        "  pos_1 = 0\n",
        "  while pos_1 < len(word_1) and still_ok:\n",
        "    pos_2 = 0\n",
        "    found = False\n",
        "    while pos_2 < len(word_2) and not found:\n",
        "      if word_1[pos_1] == word_2[pos_2]:\n",
        "        found = True\n",
        "      else:\n",
        "        pos_2 += 1\n",
        "    if found:\n",
        "      word_2[pos_2] = None\n",
        "    else:\n",
        "      still_ok = False\n",
        "    pos_1 += 1\n",
        "  return still_ok\n"
      ]
    },
    {
      "cell_type": "code",
      "source": [
        "anagramSolution1('hearr', 'earth')"
      ],
      "metadata": {
        "colab": {
          "base_uri": "https://localhost:8080/"
        },
        "id": "FAH-tp2RW1lp",
        "outputId": "82935b1a-0e11-48f5-9c86-dd6859fd7482"
      },
      "execution_count": 6,
      "outputs": [
        {
          "output_type": "execute_result",
          "data": {
            "text/plain": [
              "False"
            ]
          },
          "metadata": {},
          "execution_count": 6
        }
      ]
    },
    {
      "cell_type": "markdown",
      "source": [
        "##方法2:\n",
        "$O(n*logn)$"
      ],
      "metadata": {
        "id": "c7BzlY7Oht_C"
      }
    },
    {
      "cell_type": "code",
      "source": [
        "def anagramSolution2(word_one, word_two):\n",
        "  word_1 = list(word_one)\n",
        "  word_2 = list(word_two)\n",
        "\n",
        "  word_1.sort()\n",
        "  word_2.sort()\n",
        "\n",
        "  if word_1 == word_2:\n",
        "    return True\n",
        "  else:\n",
        "    return False\n",
        "  "
      ],
      "metadata": {
        "id": "YuoA011SW6in"
      },
      "execution_count": 22,
      "outputs": []
    },
    {
      "cell_type": "code",
      "source": [
        "anagramSolution2('hearr', 'earth')"
      ],
      "metadata": {
        "colab": {
          "base_uri": "https://localhost:8080/"
        },
        "id": "BUWEKmmBbpxd",
        "outputId": "c4879f68-32d4-458d-a49e-cdc2ee0da6bf"
      },
      "execution_count": 23,
      "outputs": [
        {
          "output_type": "execute_result",
          "data": {
            "text/plain": [
              "False"
            ]
          },
          "metadata": {},
          "execution_count": 23
        }
      ]
    },
    {
      "cell_type": "markdown",
      "source": [
        "##方法3:暴力法：\n",
        "将word1的所有字符进行排列组合，然后看word2在不在里面\n",
        "\n",
        "\n",
        "$O(n!)$"
      ],
      "metadata": {
        "id": "RVLGjCvCgg2B"
      }
    },
    {
      "cell_type": "markdown",
      "source": [
        "##方法4:计数比较\n",
        "看每个字母出现的频率，若相同，则为变位词\n",
        "\n",
        "\n",
        "$O(n)$\n",
        "\n",
        "\n",
        "时间复杂度最低，但是需要更多的存储空间\n",
        "\n",
        "\n"
      ],
      "metadata": {
        "id": "Zw__O9TMgtUF"
      }
    },
    {
      "cell_type": "markdown",
      "source": [
        "用来返回输入值的unicode值或ascii值"
      ],
      "metadata": {
        "id": "jfkNgGdwkjl5"
      }
    },
    {
      "cell_type": "code",
      "source": [
        "a = ord('a')\n",
        "a"
      ],
      "metadata": {
        "colab": {
          "base_uri": "https://localhost:8080/"
        },
        "id": "DM27j_H6c9WQ",
        "outputId": "964c8c7f-bb2a-4cd1-e4ba-2cd0f9f2deaf"
      },
      "execution_count": 25,
      "outputs": [
        {
          "output_type": "execute_result",
          "data": {
            "text/plain": [
              "97"
            ]
          },
          "metadata": {},
          "execution_count": 25
        }
      ]
    },
    {
      "cell_type": "markdown",
      "source": [
        "将26个字母分别用0-25的数代表"
      ],
      "metadata": {
        "id": "Ne8FKEWwkreP"
      }
    },
    {
      "cell_type": "code",
      "source": [
        "index = ord('z') - ord('a')\n",
        "index"
      ],
      "metadata": {
        "colab": {
          "base_uri": "https://localhost:8080/"
        },
        "id": "Fe6oqm7CjkGd",
        "outputId": "249d6a11-5f47-4bf6-e811-40f4726ce977"
      },
      "execution_count": 27,
      "outputs": [
        {
          "output_type": "execute_result",
          "data": {
            "text/plain": [
              "25"
            ]
          },
          "metadata": {},
          "execution_count": 27
        }
      ]
    },
    {
      "cell_type": "code",
      "source": [
        "def anagramSolution4(word_one, word_two):\n",
        "  # create counter list\n",
        "  c_1 = [0] * 26\n",
        "  c_2 = [0] * 26\n",
        "\n",
        "  # count\n",
        "  for i in range(len(word_one)):\n",
        "    pos = ord(word_one[i]) - ord('a')\n",
        "    c_1[pos] += 1\n",
        "\n",
        "  for i in range(len(word_two)):\n",
        "    pos = ord(word_two[i]) - ord('a')\n",
        "    c_2[pos] += 1\n",
        "\n",
        "  #check if two counter list is equal\n",
        "  if c_1 == c_2:\n",
        "    return True\n",
        "  else:\n",
        "    return False "
      ],
      "metadata": {
        "id": "NrmuUCA0khLa"
      },
      "execution_count": 30,
      "outputs": []
    },
    {
      "cell_type": "code",
      "source": [
        "anagramSolution4('eartr', 'heart')"
      ],
      "metadata": {
        "colab": {
          "base_uri": "https://localhost:8080/"
        },
        "id": "S-nOPiqpl2Kg",
        "outputId": "b2b8a686-93cc-4710-d946-d209da134d47"
      },
      "execution_count": 33,
      "outputs": [
        {
          "output_type": "execute_result",
          "data": {
            "text/plain": [
              "False"
            ]
          },
          "metadata": {},
          "execution_count": 33
        }
      ]
    },
    {
      "cell_type": "markdown",
      "source": [
        "###用字典存储"
      ],
      "metadata": {
        "id": "U6C11cSep3iR"
      }
    },
    {
      "cell_type": "code",
      "source": [
        "def word_count(word):\n",
        "  count = dict()\n",
        "  words = list(word)\n",
        "\n",
        "  for word in words:\n",
        "    if word in count:\n",
        "      count[word] += 1\n",
        "    else:\n",
        "      count[word] = 1\n",
        "\n",
        "  return count\n"
      ],
      "metadata": {
        "id": "MTV96ISAl5rD"
      },
      "execution_count": 34,
      "outputs": []
    },
    {
      "cell_type": "code",
      "source": [
        "word_count('earthfheoiwhfoihgioehougbaoudw')"
      ],
      "metadata": {
        "colab": {
          "base_uri": "https://localhost:8080/"
        },
        "id": "YV_cgAy1qgCl",
        "outputId": "413c33be-8a61-40fe-8344-149f99f27509"
      },
      "execution_count": 36,
      "outputs": [
        {
          "output_type": "execute_result",
          "data": {
            "text/plain": [
              "{'a': 2,\n",
              " 'b': 1,\n",
              " 'd': 1,\n",
              " 'e': 3,\n",
              " 'f': 2,\n",
              " 'g': 2,\n",
              " 'h': 5,\n",
              " 'i': 3,\n",
              " 'o': 5,\n",
              " 'r': 1,\n",
              " 't': 1,\n",
              " 'u': 2,\n",
              " 'w': 2}"
            ]
          },
          "metadata": {},
          "execution_count": 36
        }
      ]
    },
    {
      "cell_type": "code",
      "source": [
        ""
      ],
      "metadata": {
        "id": "TSkmh6NFqijS"
      },
      "execution_count": null,
      "outputs": []
    }
  ]
}