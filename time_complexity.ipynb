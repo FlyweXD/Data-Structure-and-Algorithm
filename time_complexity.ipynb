{
  "nbformat": 4,
  "nbformat_minor": 0,
  "metadata": {
    "colab": {
      "name": "time_complexity.ipynb",
      "provenance": [],
      "collapsed_sections": [
        "WpAJ8SydhKvL",
        "c7BzlY7Oht_C",
        "OvOyFgR7rcJ9",
        "XLQsYfUvQFBY",
        "6OFmf4k8aLkm"
      ],
      "toc_visible": true,
      "authorship_tag": "ABX9TyN5r+mjciAZKFU+W3mfz9cU",
      "include_colab_link": true
    },
    "kernelspec": {
      "name": "python3",
      "display_name": "Python 3"
    },
    "language_info": {
      "name": "python"
    }
  },
  "cells": [
    {
      "cell_type": "markdown",
      "metadata": {
        "id": "view-in-github",
        "colab_type": "text"
      },
      "source": [
        "<a href=\"https://colab.research.google.com/github/FlyweXD/Data-Structure-and-Algorithm/blob/main/time_complexity.ipynb\" target=\"_parent\"><img src=\"https://colab.research.google.com/assets/colab-badge.svg\" alt=\"Open In Colab\"/></a>"
      ]
    },
    {
      "cell_type": "markdown",
      "source": [
        "# 求最大公约数（greatest common divisor）"
      ],
      "metadata": {
        "id": "HvXZVk1Fw0iQ"
      }
    },
    {
      "cell_type": "markdown",
      "source": [
        "##辗转相除\n",
        "需要的步骤不会超过较小数的位数的五倍\n",
        "\n",
        "$O(log(min(a,b)))$"
      ],
      "metadata": {
        "id": "Qs3MmeJwuDwu"
      }
    },
    {
      "cell_type": "code",
      "source": [
        "def euclidean(larger, smaller):\n",
        "  if larger % smaller == 0:\n",
        "    return smaller\n",
        "  else:\n",
        "    reminder = larger % smaller\n",
        "    return euclidean(smaller, reminder)"
      ],
      "metadata": {
        "id": "5Gtc5DJSuJRm"
      },
      "execution_count": null,
      "outputs": []
    },
    {
      "cell_type": "code",
      "source": [
        "euclidean(35,20)"
      ],
      "metadata": {
        "colab": {
          "base_uri": "https://localhost:8080/"
        },
        "id": "uv-qdlPfwJBO",
        "outputId": "ba2ec7a3-d1ad-4fb0-f375-7224250b9291"
      },
      "execution_count": null,
      "outputs": [
        {
          "output_type": "execute_result",
          "data": {
            "text/plain": [
              "5"
            ]
          },
          "metadata": {},
          "execution_count": 3
        }
      ]
    },
    {
      "cell_type": "markdown",
      "source": [
        "## 更相减损\n",
        "\n",
        "\n",
        "性能不稳定\n",
        "\n",
        "ex. 10000 & 1 \n",
        "\n",
        "最坏 $O(max(a,b))$"
      ],
      "metadata": {
        "id": "HNW-7f95xDmw"
      }
    },
    {
      "cell_type": "code",
      "source": [
        "def gxjs(a, b):\n",
        "  if a == b:\n",
        "    return a\n",
        "  elif a > b:\n",
        "    return gxjs(a-b, b)\n",
        "  else:\n",
        "    return gxjs(b-a, a)"
      ],
      "metadata": {
        "id": "gnrv9oAwxMS0"
      },
      "execution_count": null,
      "outputs": []
    },
    {
      "cell_type": "code",
      "source": [
        "gxjs(35, 20)"
      ],
      "metadata": {
        "colab": {
          "base_uri": "https://localhost:8080/"
        },
        "id": "_YqQxXUtxuG2",
        "outputId": "52d472ac-68ab-4964-e8eb-7b54ac1daae3"
      },
      "execution_count": null,
      "outputs": [
        {
          "output_type": "execute_result",
          "data": {
            "text/plain": [
              "5"
            ]
          },
          "metadata": {},
          "execution_count": 9
        }
      ]
    },
    {
      "cell_type": "markdown",
      "source": [
        "## combine 移位运算\n",
        "\n",
        "移位操作等效于乘以 2 或者除以 2，但是移位运算的效率更高，所以在乘以或者除以 2 的整数幂时使用移位操作可以提升代码的执行速度。\n",
        "\n",
        "移位操作包括左移和右移两个操作：左移操作相当于得到原操作数除以$2^n$，右移操作相当于得到原操作数乘以$2^n$。这两个操作都不改变原操作数的值。"
      ],
      "metadata": {
        "id": "yQsz0di84HXL"
      }
    },
    {
      "cell_type": "code",
      "source": [
        "def gcd(a,b):\n",
        "  if a == b:\n",
        "    return a\n",
        "# make sure a always larger than b\n",
        "  elif a < b:\n",
        "    return gcd(b, a)\n",
        "# the fastest way to check odd or even\n",
        "# the 'bytewise and'\n",
        "  else:\n",
        "    if a & 1 and b & 1: #a and b are odd\n",
        "      return gcd(b, a-b) # a-b must be even\n",
        "    elif a & 1 and not(b & 1): #a odd, b even\n",
        "      return gcd(a, b>>1)\n",
        "    elif not(a & 1) and b & 1:\n",
        "      return gcd(a>>1, b)\n",
        "    else:\n",
        "      return gcd(a>>1, b>>1)\n"
      ],
      "metadata": {
        "id": "GRXXPCUZ4TUT"
      },
      "execution_count": null,
      "outputs": []
    },
    {
      "cell_type": "code",
      "source": [
        "gcd(35, 20)"
      ],
      "metadata": {
        "colab": {
          "base_uri": "https://localhost:8080/"
        },
        "id": "akFV41AA653l",
        "outputId": "7a534560-7d99-4a08-ae2d-77c5c51b4f7c"
      },
      "execution_count": null,
      "outputs": [
        {
          "output_type": "execute_result",
          "data": {
            "text/plain": [
              "5"
            ]
          },
          "metadata": {},
          "execution_count": 11
        }
      ]
    },
    {
      "cell_type": "markdown",
      "source": [
        "#变位词"
      ],
      "metadata": {
        "id": "8vwzvE0in_M2"
      }
    },
    {
      "cell_type": "markdown",
      "source": [
        "##方法1:\n",
        "时间复杂度$O（n^2）$"
      ],
      "metadata": {
        "id": "WpAJ8SydhKvL"
      }
    },
    {
      "cell_type": "code",
      "execution_count": null,
      "metadata": {
        "id": "s74oFliePBgr"
      },
      "outputs": [],
      "source": [
        "def anagramSolution1(word_one, word_two):\n",
        "  # check if 2 word same length\n",
        "  if len(word_one) != len(word_two):\n",
        "    return False\n",
        "\n",
        "  word_1 = list(word_one)\n",
        "  word_2 = list(word_two)\n",
        "  still_ok = True\n",
        "  pos_1 = 0\n",
        "  while pos_1 < len(word_1) and still_ok:\n",
        "    pos_2 = 0\n",
        "    found = False\n",
        "    while pos_2 < len(word_2) and not found:\n",
        "      if word_1[pos_1] == word_2[pos_2]:\n",
        "        found = True\n",
        "      else:\n",
        "        pos_2 += 1\n",
        "    if found:\n",
        "      word_2[pos_2] = None\n",
        "    else:\n",
        "      still_ok = False\n",
        "    pos_1 += 1\n",
        "  return still_ok\n"
      ]
    },
    {
      "cell_type": "code",
      "source": [
        "anagramSolution1('hearr', 'earth')"
      ],
      "metadata": {
        "colab": {
          "base_uri": "https://localhost:8080/"
        },
        "id": "FAH-tp2RW1lp",
        "outputId": "18fd08fd-9193-4d81-c402-641809ba1633"
      },
      "execution_count": null,
      "outputs": [
        {
          "output_type": "execute_result",
          "data": {
            "text/plain": [
              "False"
            ]
          },
          "metadata": {},
          "execution_count": 2
        }
      ]
    },
    {
      "cell_type": "markdown",
      "source": [
        "##方法2:\n",
        "$O(n*logn)$"
      ],
      "metadata": {
        "id": "c7BzlY7Oht_C"
      }
    },
    {
      "cell_type": "code",
      "source": [
        "def anagramSolution2(word_one, word_two):\n",
        "  word_1 = list(word_one)\n",
        "  word_2 = list(word_two)\n",
        "\n",
        "  word_1.sort()\n",
        "  word_2.sort()\n",
        "\n",
        "  if word_1 == word_2:\n",
        "    return True\n",
        "  else:\n",
        "    return False\n",
        "  "
      ],
      "metadata": {
        "id": "YuoA011SW6in"
      },
      "execution_count": null,
      "outputs": []
    },
    {
      "cell_type": "code",
      "source": [
        "anagramSolution2('hearr', 'earth')"
      ],
      "metadata": {
        "colab": {
          "base_uri": "https://localhost:8080/"
        },
        "id": "BUWEKmmBbpxd",
        "outputId": "93fbff2a-f606-4f33-d43d-5c610b711b86"
      },
      "execution_count": null,
      "outputs": [
        {
          "output_type": "execute_result",
          "data": {
            "text/plain": [
              "False"
            ]
          },
          "metadata": {},
          "execution_count": 4
        }
      ]
    },
    {
      "cell_type": "markdown",
      "source": [
        "##方法3:暴力法：\n",
        "将word1的所有字符进行排列组合，然后看word2在不在里面\n",
        "\n",
        "\n",
        "$O(n!)$"
      ],
      "metadata": {
        "id": "RVLGjCvCgg2B"
      }
    },
    {
      "cell_type": "markdown",
      "source": [
        "##方法4:计数比较\n",
        "看每个字母出现的频率，若相同，则为变位词\n",
        "\n",
        "\n",
        "$O(n)$\n",
        "\n",
        "\n",
        "时间复杂度最低，但是需要更多的存储空间\n",
        "\n",
        "\n"
      ],
      "metadata": {
        "id": "Zw__O9TMgtUF"
      }
    },
    {
      "cell_type": "markdown",
      "source": [
        "用来返回输入值的unicode值或ascii值"
      ],
      "metadata": {
        "id": "jfkNgGdwkjl5"
      }
    },
    {
      "cell_type": "code",
      "source": [
        "a = ord('a')\n",
        "a"
      ],
      "metadata": {
        "colab": {
          "base_uri": "https://localhost:8080/"
        },
        "id": "DM27j_H6c9WQ",
        "outputId": "2bcbe70a-5e22-4dec-eb9d-5736f9a05302"
      },
      "execution_count": null,
      "outputs": [
        {
          "output_type": "execute_result",
          "data": {
            "text/plain": [
              "97"
            ]
          },
          "metadata": {},
          "execution_count": 5
        }
      ]
    },
    {
      "cell_type": "markdown",
      "source": [
        "将26个字母分别用0-25的数代表"
      ],
      "metadata": {
        "id": "Ne8FKEWwkreP"
      }
    },
    {
      "cell_type": "code",
      "source": [
        "index = ord('z') - ord('a')\n",
        "index"
      ],
      "metadata": {
        "colab": {
          "base_uri": "https://localhost:8080/"
        },
        "id": "Fe6oqm7CjkGd",
        "outputId": "e3536ea9-354d-48b0-c438-cd3ee73d7558"
      },
      "execution_count": null,
      "outputs": [
        {
          "output_type": "execute_result",
          "data": {
            "text/plain": [
              "25"
            ]
          },
          "metadata": {},
          "execution_count": 6
        }
      ]
    },
    {
      "cell_type": "code",
      "source": [
        "def anagramSolution4(word_one, word_two):\n",
        "  # create counter list\n",
        "  c_1 = [0] * 26\n",
        "  c_2 = [0] * 26\n",
        "\n",
        "  # count\n",
        "  for i in range(len(word_one)):\n",
        "    pos = ord(word_one[i]) - ord('a')\n",
        "    c_1[pos] += 1\n",
        "\n",
        "  for i in range(len(word_two)):\n",
        "    pos = ord(word_two[i]) - ord('a')\n",
        "    c_2[pos] += 1\n",
        "\n",
        "  #check if two counter list is equal\n",
        "  if c_1 == c_2:\n",
        "    return True\n",
        "  else:\n",
        "    return False "
      ],
      "metadata": {
        "id": "NrmuUCA0khLa"
      },
      "execution_count": null,
      "outputs": []
    },
    {
      "cell_type": "code",
      "source": [
        "anagramSolution4('eartr', 'heart')"
      ],
      "metadata": {
        "colab": {
          "base_uri": "https://localhost:8080/"
        },
        "id": "S-nOPiqpl2Kg",
        "outputId": "0151f4ad-67d0-4474-9e15-0afa2bdb6850"
      },
      "execution_count": null,
      "outputs": [
        {
          "output_type": "execute_result",
          "data": {
            "text/plain": [
              "False"
            ]
          },
          "metadata": {},
          "execution_count": 8
        }
      ]
    },
    {
      "cell_type": "markdown",
      "source": [
        "###用字典存储"
      ],
      "metadata": {
        "id": "U6C11cSep3iR"
      }
    },
    {
      "cell_type": "code",
      "source": [
        "def word_count(word):\n",
        "  count = dict()\n",
        "  words = list(word)\n",
        "\n",
        "  for word in words:\n",
        "    if word in count:\n",
        "      count[word] += 1\n",
        "    else:\n",
        "      count[word] = 1\n",
        "\n",
        "  return count\n"
      ],
      "metadata": {
        "id": "MTV96ISAl5rD"
      },
      "execution_count": null,
      "outputs": []
    },
    {
      "cell_type": "code",
      "source": [
        "word_count('earthfheoiwhfoihgioehougbaoudw')"
      ],
      "metadata": {
        "colab": {
          "base_uri": "https://localhost:8080/"
        },
        "id": "YV_cgAy1qgCl",
        "outputId": "f1798083-2a6b-4bd4-eb92-6bcecce348e0"
      },
      "execution_count": null,
      "outputs": [
        {
          "output_type": "execute_result",
          "data": {
            "text/plain": [
              "{'a': 2,\n",
              " 'b': 1,\n",
              " 'd': 1,\n",
              " 'e': 3,\n",
              " 'f': 2,\n",
              " 'g': 2,\n",
              " 'h': 5,\n",
              " 'i': 3,\n",
              " 'o': 5,\n",
              " 'r': 1,\n",
              " 't': 1,\n",
              " 'u': 2,\n",
              " 'w': 2}"
            ]
          },
          "metadata": {},
          "execution_count": 10
        }
      ]
    },
    {
      "cell_type": "code",
      "source": [
        ""
      ],
      "metadata": {
        "id": "TSkmh6NFqijS"
      },
      "execution_count": null,
      "outputs": []
    },
    {
      "cell_type": "markdown",
      "source": [
        "# Python数据类型的性能\n",
        "列表和字典\n"
      ],
      "metadata": {
        "id": "OvOyFgR7rcJ9"
      }
    },
    {
      "cell_type": "markdown",
      "source": [
        "## 四种生成前n个整数列表的方式"
      ],
      "metadata": {
        "id": "zmB2wYd-4YK3"
      }
    },
    {
      "cell_type": "code",
      "source": [
        "# method1\n",
        "def list_generator1(n):\n",
        "  l = []\n",
        "  for i in range(n):\n",
        "    l = l + [i]\n"
      ],
      "metadata": {
        "id": "N4f5hiV3rjOl"
      },
      "execution_count": null,
      "outputs": []
    },
    {
      "cell_type": "code",
      "source": [
        "# method2\n",
        "def list_generator2(n):\n",
        "  l = []\n",
        "  for i in range(n):\n",
        "    l.append(i)\n",
        "    "
      ],
      "metadata": {
        "id": "HIJpIlsk43Ma"
      },
      "execution_count": null,
      "outputs": []
    },
    {
      "cell_type": "code",
      "source": [
        "# method3\n",
        "def list_generator3(n):\n",
        "  l = [i for i in range(n)]\n"
      ],
      "metadata": {
        "id": "CfJluNlc5EOg"
      },
      "execution_count": null,
      "outputs": []
    },
    {
      "cell_type": "code",
      "source": [
        "# method4\n",
        "def list_generator4(n):\n",
        "  l = list(range(n))"
      ],
      "metadata": {
        "id": "X5O-T6OX5PBU"
      },
      "execution_count": null,
      "outputs": []
    },
    {
      "cell_type": "code",
      "source": [
        "# timeit module to time \n",
        "from timeit import Timer\n",
        "# 指定需要反复运行的语句，只执行一次的安装语句\n",
        "t1 = Timer('list_generator1(1000)','from __main__ import list_generator1')\n",
        "t2 = Timer('list_generator2(1000)','from __main__ import list_generator2')\n",
        "t3 = Timer('list_generator3(1000)','from __main__ import list_generator3')\n",
        "t4 = Timer('list_generator4(1000)','from __main__ import list_generator4')\n",
        "\n",
        "print('t1= %f' % t1.timeit(number=1000))\n",
        "print('t2= %f' % t2.timeit(number=1000))\n",
        "print('t3= %f' % t3.timeit(number=1000))\n",
        "print('t4= %f' % t4.timeit(number=1000))"
      ],
      "metadata": {
        "colab": {
          "base_uri": "https://localhost:8080/"
        },
        "id": "UuFUED-z5ciW",
        "outputId": "a6be3b49-94d0-414a-f35a-9aaea1403da5"
      },
      "execution_count": null,
      "outputs": [
        {
          "output_type": "stream",
          "name": "stdout",
          "text": [
            "t1= 2.157124\n",
            "t2= 0.130714\n",
            "t3= 0.056007\n",
            "t4= 0.027665\n"
          ]
        }
      ]
    },
    {
      "cell_type": "code",
      "source": [
        ""
      ],
      "metadata": {
        "id": "VlLs-9xnAJFJ"
      },
      "execution_count": null,
      "outputs": []
    },
    {
      "cell_type": "markdown",
      "source": [
        "#Linear Structure"
      ],
      "metadata": {
        "id": "LlrseXs9OmT7"
      }
    },
    {
      "cell_type": "code",
      "source": [
        ""
      ],
      "metadata": {
        "id": "CyE93kBbOu9Q"
      },
      "execution_count": null,
      "outputs": []
    },
    {
      "cell_type": "markdown",
      "source": [
        "## Stack"
      ],
      "metadata": {
        "id": "PdFRZm2vOvX0"
      }
    },
    {
      "cell_type": "code",
      "source": [
        "class Stack:\n",
        "  def __init__(self):\n",
        "      self.items = []\n",
        "\n",
        "  def isEmpty(self):\n",
        "    return self.items == []\n",
        "\n",
        "  def push(self, item):\n",
        "    self.items.append(item)\n",
        "\n",
        "  def pop(self):\n",
        "    return self.items.pop()\n",
        "\n",
        "  def peek(self):\n",
        "    return self.items[-1]\n",
        "\n",
        "  def size(self):\n",
        "    return len(self.items)"
      ],
      "metadata": {
        "id": "M3cWd9ROOyNf"
      },
      "execution_count": null,
      "outputs": []
    },
    {
      "cell_type": "code",
      "source": [
        "s = Stack()\n",
        "print(s.isEmpty)\n",
        "s.push('foewhfi')\n",
        "s.push(4)\n",
        "print(s.peek())\n",
        "s.push(True)\n",
        "print(s.pop())"
      ],
      "metadata": {
        "colab": {
          "base_uri": "https://localhost:8080/"
        },
        "id": "TAWuoQ14P0lf",
        "outputId": "96606579-0cce-4672-dbf0-aafc919a036a"
      },
      "execution_count": null,
      "outputs": [
        {
          "output_type": "stream",
          "name": "stdout",
          "text": [
            "<bound method Stack.isEmpty of <__main__.Stack object at 0x7f56c36e2b90>>\n",
            "4\n",
            "True\n"
          ]
        }
      ]
    },
    {
      "cell_type": "markdown",
      "source": [
        "### parenthesis checker"
      ],
      "metadata": {
        "id": "yqPa7lcpSnxv"
      }
    },
    {
      "cell_type": "code",
      "source": [
        "def parenthesis_checker(par_str):\n",
        "  s = Stack()\n",
        "\n",
        "  for par in par_str:\n",
        "    if par == '(':\n",
        "      s.push(par)\n",
        "    else:\n",
        "      if s.isEmpty():\n",
        "        return False\n",
        "      else:\n",
        "        s.pop()\n",
        "  if s.isEmpty():\n",
        "    return True\n",
        "  else:\n",
        "    return False"
      ],
      "metadata": {
        "id": "EBo93h5-QOLy"
      },
      "execution_count": null,
      "outputs": []
    },
    {
      "cell_type": "code",
      "source": [
        "parenthesis_checker('(((())))))))(((()))')"
      ],
      "metadata": {
        "colab": {
          "base_uri": "https://localhost:8080/"
        },
        "id": "W5c7lO9wT8my",
        "outputId": "1b2955aa-e890-4dfe-ddbd-256ea727f3dc"
      },
      "execution_count": null,
      "outputs": [
        {
          "output_type": "execute_result",
          "data": {
            "text/plain": [
              "False"
            ]
          },
          "metadata": {},
          "execution_count": 19
        }
      ]
    },
    {
      "cell_type": "code",
      "source": [
        "parenthesis_checker('(((((())))))()()(())')"
      ],
      "metadata": {
        "colab": {
          "base_uri": "https://localhost:8080/"
        },
        "id": "vyK28tsyUBPr",
        "outputId": "79bffb8f-f95b-4e1a-c7c3-4a4e09c55537"
      },
      "execution_count": null,
      "outputs": [
        {
          "output_type": "execute_result",
          "data": {
            "text/plain": [
              "True"
            ]
          },
          "metadata": {},
          "execution_count": 20
        }
      ]
    },
    {
      "cell_type": "markdown",
      "source": [
        "### decimal -> binary"
      ],
      "metadata": {
        "id": "XLQsYfUvQFBY"
      }
    },
    {
      "cell_type": "code",
      "source": [
        "def decimal2bin(decimal_num):\n",
        "  inv_bin = Stack()\n",
        "\n",
        "  while decimal_num > 0:\n",
        "    reminder = decimal_num % 2\n",
        "    inv_bin.push(reminder)\n",
        "    decimal_num = decimal_num // 2\n",
        "\n",
        "  bin_str = ''\n",
        "  while not inv_bin.isEmpty():\n",
        "    bin_str = bin_str + str(inv_bin.pop())\n",
        "\n",
        "  return bin_str"
      ],
      "metadata": {
        "id": "zqIjtG_VUvdG"
      },
      "execution_count": null,
      "outputs": []
    },
    {
      "cell_type": "code",
      "source": [
        "decimal2bin(4802934309)"
      ],
      "metadata": {
        "colab": {
          "base_uri": "https://localhost:8080/"
        },
        "id": "WZ9AclRqRauQ",
        "outputId": "3cd6d210-a001-4f2e-e02d-b354b0150dcf"
      },
      "execution_count": null,
      "outputs": [
        {
          "output_type": "execute_result",
          "data": {
            "text/plain": [
              "'100011110010001101111011000100101'"
            ],
            "application/vnd.google.colaboratory.intrinsic+json": {
              "type": "string"
            }
          },
          "metadata": {},
          "execution_count": 22
        }
      ]
    },
    {
      "cell_type": "code",
      "source": [
        "# 转化为任意进制\n",
        "def base_converter(decimal_num, base):\n",
        "  inv_bin = Stack()\n",
        "  digits = '0123456789ABCDEF'\n",
        "\n",
        "  while decimal_num > 0:\n",
        "    reminder = decimal_num % base\n",
        "    inv_bin.push(reminder)\n",
        "    decimal_num = decimal_num // base\n",
        "\n",
        "  bin_str = ''\n",
        "  while not inv_bin.isEmpty():\n",
        "    bin_str = bin_str + digits[inv_bin.pop()]\n",
        "\n",
        "  return bin_str"
      ],
      "metadata": {
        "id": "0lAmH_k1RfW_"
      },
      "execution_count": null,
      "outputs": []
    },
    {
      "cell_type": "code",
      "source": [
        "base_converter(25, 16)"
      ],
      "metadata": {
        "colab": {
          "base_uri": "https://localhost:8080/"
        },
        "id": "hQ9cHZFvSikN",
        "outputId": "563c8cf1-53a4-4653-9359-cf4679eb2a03"
      },
      "execution_count": null,
      "outputs": [
        {
          "output_type": "execute_result",
          "data": {
            "text/plain": [
              "'19'"
            ],
            "application/vnd.google.colaboratory.intrinsic+json": {
              "type": "string"
            }
          },
          "metadata": {},
          "execution_count": 24
        }
      ]
    },
    {
      "cell_type": "code",
      "source": [
        "base_converter(25, 2)"
      ],
      "metadata": {
        "colab": {
          "base_uri": "https://localhost:8080/"
        },
        "id": "oD-HLk-BSq0D",
        "outputId": "9ca8a042-1257-47dc-c366-f68c127d4073"
      },
      "execution_count": null,
      "outputs": [
        {
          "output_type": "execute_result",
          "data": {
            "text/plain": [
              "'11001'"
            ],
            "application/vnd.google.colaboratory.intrinsic+json": {
              "type": "string"
            }
          },
          "metadata": {},
          "execution_count": 25
        }
      ]
    },
    {
      "cell_type": "markdown",
      "source": [
        "### 表达式转换"
      ],
      "metadata": {
        "id": "9k4tc-YTXFY1"
      }
    },
    {
      "cell_type": "code",
      "source": [
        ""
      ],
      "metadata": {
        "id": "YkA_UJybSxU8"
      },
      "execution_count": null,
      "outputs": []
    },
    {
      "cell_type": "markdown",
      "source": [
        "### suffix -> val"
      ],
      "metadata": {
        "id": "6OFmf4k8aLkm"
      }
    },
    {
      "cell_type": "code",
      "source": [
        "import string\n",
        "\n",
        "def math(operator,a,b):\n",
        "  if operator == '*':\n",
        "    return a*b\n",
        "  elif operator == '/':\n",
        "    return a/b\n",
        "  elif operator == '+':\n",
        "    return a+b\n",
        "  else:\n",
        "    return a-b\n",
        "\n",
        "\n",
        "def suffix2val(suffix_expr):\n",
        "  s = Stack()\n",
        "  # token_list = suffix_expr.split()\n",
        "\n",
        "  for token in suffix_expr:\n",
        "    if token in '0123456789':\n",
        "      s.push(int(token))\n",
        "    else:\n",
        "      former = s.pop()\n",
        "      last = s.pop()\n",
        "      new = math(token, last, former)\n",
        "      s.push(new)\n",
        "      \n",
        "  return s.peek()"
      ],
      "metadata": {
        "id": "ZiFnLyKmaQlR"
      },
      "execution_count": null,
      "outputs": []
    },
    {
      "cell_type": "code",
      "source": [
        "suffix2val('78+32+/')"
      ],
      "metadata": {
        "id": "s14AQG18dpjt",
        "colab": {
          "base_uri": "https://localhost:8080/"
        },
        "outputId": "01820fbc-116f-4ec8-facc-93fb32c56774"
      },
      "execution_count": null,
      "outputs": [
        {
          "output_type": "execute_result",
          "data": {
            "text/plain": [
              "3.0"
            ]
          },
          "metadata": {},
          "execution_count": 39
        }
      ]
    },
    {
      "cell_type": "code",
      "source": [
        ""
      ],
      "metadata": {
        "id": "qYKOjUJgchxm"
      },
      "execution_count": null,
      "outputs": []
    },
    {
      "cell_type": "markdown",
      "source": [
        "## queue 队列"
      ],
      "metadata": {
        "id": "RTytnHfviB5f"
      }
    },
    {
      "cell_type": "code",
      "source": [
        "class Queue:\n",
        "  def __init__(self):\n",
        "    self.items = []\n",
        "\n",
        "# o(n)\n",
        "  def enqueue(self, item):\n",
        "    self.items.insert(0, item)\n",
        "\n",
        "# o(1)\n",
        "  def dequeue(self):\n",
        "    return self.items.pop()\n",
        "\n",
        "  def is_empty(self):\n",
        "    return self.items == []\n",
        "\n",
        "  def size(self):\n",
        "    return len(self.items)"
      ],
      "metadata": {
        "id": "yKymlaUaiFBx"
      },
      "execution_count": 1,
      "outputs": []
    },
    {
      "cell_type": "markdown",
      "source": [
        "### 热土豆问题"
      ],
      "metadata": {
        "id": "E93OXw3ZnS0i"
      }
    },
    {
      "cell_type": "markdown",
      "source": [
        "将参与游戏的人名组成队列， 每传递一次， 队首的人出列， 并且再新添加到队尾， 以此循环。\n",
        "\n",
        "\n",
        "如果传递次数到了， 则队首人出列， 不再参与队列"
      ],
      "metadata": {
        "id": "RxZxrEJdncI2"
      }
    },
    {
      "cell_type": "code",
      "source": [
        "from collections import deque\n",
        "def hot_potato(names, num):\n",
        "  q = Queue()\n",
        "  for name in names:\n",
        "    q.enqueue(name)\n",
        "\n",
        "  while q.size() > 1:\n",
        "    for i in range(num):\n",
        "      q.enqueue(q.dequeue())\n",
        "    q.dequeue()\n",
        "  return q.dequeue()"
      ],
      "metadata": {
        "id": "5ifdmGPBk8Dj"
      },
      "execution_count": 10,
      "outputs": []
    },
    {
      "cell_type": "code",
      "source": [
        "hot_potato(['a','b','c','d','e','f'],7)"
      ],
      "metadata": {
        "colab": {
          "base_uri": "https://localhost:8080/",
          "height": 37
        },
        "id": "GtA5nHJppd_j",
        "outputId": "ba31adb6-7823-40a6-e15c-67a2db6e4abd"
      },
      "execution_count": 11,
      "outputs": [
        {
          "output_type": "execute_result",
          "data": {
            "text/plain": [
              "'c'"
            ],
            "application/vnd.google.colaboratory.intrinsic+json": {
              "type": "string"
            }
          },
          "metadata": {},
          "execution_count": 11
        }
      ]
    },
    {
      "cell_type": "markdown",
      "source": [
        "### 打印任务"
      ],
      "metadata": {
        "id": "C_D9pd2zrHv2"
      }
    },
    {
      "cell_type": "code",
      "source": [
        "import random\n",
        "\n",
        "\n",
        "class Printer:\n",
        "  def __init__(self, ppm):\n",
        "    self.page_rate = ppm #paper/min\n",
        "    self.current_task = None\n",
        "    self.time_remaining = 0\n",
        "\n",
        "  def tick(self):\n",
        "    if self.current_task != None:\n",
        "      self.time_remaining -= 1\n",
        "      if self.time_remaining <= 0:\n",
        "        self.current_task = None \n",
        "\n",
        "  def busy(self):\n",
        "    if self.current_task is None:\n",
        "      return False\n",
        "    else:\n",
        "      return True\n",
        "\n",
        "  def start_next(self, new_task):\n",
        "    self.current_task = new_task\n",
        "    self.time_remaining = new_task.get_pages() * self.page_rate * 60 # pps\n",
        "  \n",
        "\n",
        "class Task:\n",
        "  def __init__(self, time):\n",
        "    self.timestamp = time\n",
        "    self.pages = random.randint(1,20)\n",
        "\n",
        "  def get_pages(self):\n",
        "    return self.pages\n",
        "\n",
        "  def get_stamp(self):\n",
        "    return self.timestamp\n",
        "\n",
        "  def wait_time(self, current_time):\n",
        "    return current_time - self.timestamp\n",
        "\n",
        "\n",
        "def new_task():\n",
        "  num = random.randint(1,180)\n",
        "  if num == 180:\n",
        "    return True\n",
        "  else:\n",
        "    return False\n",
        "\n",
        "\n",
        "def simulation(num_seconds, rate):\n",
        "  simul_printer = Printer(rate)\n",
        "  print_queue = Queue()\n",
        "  waiting_time = []\n",
        "\n",
        "  for current_time in range(num_seconds):\n",
        "    if new_task():\n",
        "      task = Task(current_time)\n",
        "      print_queue.enqueue(task)\n",
        "\n",
        "    if (not simul_printer.busy()) and \\\n",
        "             (not print_queue.is_empty()):\n",
        "      next_task = print_queue.dequeue()\n",
        "      waiting_time.append(next_task.wait_time(current_time))\n",
        "      simul_printer.start_next(next_task)\n",
        "\n",
        "    simul_printer.tick()\n",
        "  \n",
        "  average_time = sum(waiting_time) / len(waiting_time)\n",
        "  print(f'Average waiting {average_time} sec, {print_queue.size()} tasks remainig.')\n"
      ],
      "metadata": {
        "id": "4_eQCvbMpw91"
      },
      "execution_count": 19,
      "outputs": []
    },
    {
      "cell_type": "code",
      "source": [
        "for i in range(10):\n",
        "  simulation(3600, 10)"
      ],
      "metadata": {
        "colab": {
          "base_uri": "https://localhost:8080/"
        },
        "id": "ZL-S59M4tvXK",
        "outputId": "b2aafd28-60d5-4be8-8406-60112964dbb5"
      },
      "execution_count": 21,
      "outputs": [
        {
          "output_type": "stream",
          "name": "stdout",
          "text": [
            "Average waiting 0.0 sec, 27 tasks remainig.\n",
            "Average waiting 0.0 sec, 22 tasks remainig.\n",
            "Average waiting 0.0 sec, 18 tasks remainig.\n",
            "Average waiting 0.0 sec, 21 tasks remainig.\n",
            "Average waiting 358.0 sec, 16 tasks remainig.\n",
            "Average waiting 0.0 sec, 15 tasks remainig.\n",
            "Average waiting 598.0 sec, 15 tasks remainig.\n",
            "Average waiting 1376.3333333333333 sec, 22 tasks remainig.\n",
            "Average waiting 0.0 sec, 24 tasks remainig.\n",
            "Average waiting 0.0 sec, 20 tasks remainig.\n"
          ]
        }
      ]
    },
    {
      "cell_type": "code",
      "source": [
        ""
      ],
      "metadata": {
        "id": "3VhRUEOj2MVR"
      },
      "execution_count": null,
      "outputs": []
    }
  ]
}